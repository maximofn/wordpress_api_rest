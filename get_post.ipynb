{
 "cells": [
  {
   "cell_type": "code",
   "execution_count": 128,
   "metadata": {},
   "outputs": [],
   "source": [
    "from utils import get_post\n",
    "import json"
   ]
  },
  {
   "cell_type": "code",
   "execution_count": 2,
   "metadata": {},
   "outputs": [],
   "source": [
    "terminal_page_id = 732\n",
    "terminal_page_json = get_post(terminal_page_id)"
   ]
  },
  {
   "cell_type": "code",
   "execution_count": 3,
   "metadata": {},
   "outputs": [
    {
     "data": {
      "text/plain": [
       "['id',\n",
       " 'date',\n",
       " 'date_gmt',\n",
       " 'guid',\n",
       " 'modified',\n",
       " 'modified_gmt',\n",
       " 'slug',\n",
       " 'status',\n",
       " 'type',\n",
       " 'link',\n",
       " 'title',\n",
       " 'content',\n",
       " 'excerpt',\n",
       " 'author',\n",
       " 'featured_media',\n",
       " 'comment_status',\n",
       " 'ping_status',\n",
       " 'sticky',\n",
       " 'template',\n",
       " 'format',\n",
       " 'meta',\n",
       " 'categories',\n",
       " 'tags',\n",
       " 'blocksy_meta',\n",
       " 'yoast_head',\n",
       " 'yoast_head_json',\n",
       " '_links']"
      ]
     },
     "execution_count": 3,
     "metadata": {},
     "output_type": "execute_result"
    }
   ],
   "source": [
    "list(terminal_page_json.keys())"
   ]
  },
  {
   "cell_type": "code",
   "execution_count": 4,
   "metadata": {},
   "outputs": [
    {
     "data": {
      "text/plain": [
       "732"
      ]
     },
     "execution_count": 4,
     "metadata": {},
     "output_type": "execute_result"
    }
   ],
   "source": [
    "terminal_page_json[\"id\"]"
   ]
  },
  {
   "cell_type": "code",
   "execution_count": 6,
   "metadata": {},
   "outputs": [
    {
     "data": {
      "text/plain": [
       "'2022-12-12T06:39:35'"
      ]
     },
     "execution_count": 6,
     "metadata": {},
     "output_type": "execute_result"
    }
   ],
   "source": [
    "terminal_page_json[\"date\"]"
   ]
  },
  {
   "cell_type": "code",
   "execution_count": 8,
   "metadata": {},
   "outputs": [
    {
     "data": {
      "text/plain": [
       "'2022-12-12T06:39:35'"
      ]
     },
     "execution_count": 8,
     "metadata": {},
     "output_type": "execute_result"
    }
   ],
   "source": [
    "terminal_page_json[\"date_gmt\"]"
   ]
  },
  {
   "cell_type": "code",
   "execution_count": 10,
   "metadata": {},
   "outputs": [
    {
     "data": {
      "text/plain": [
       "{'rendered': 'https://maximofn.com/?p=732'}"
      ]
     },
     "execution_count": 10,
     "metadata": {},
     "output_type": "execute_result"
    }
   ],
   "source": [
    "terminal_page_json[\"guid\"]"
   ]
  },
  {
   "cell_type": "code",
   "execution_count": 12,
   "metadata": {},
   "outputs": [
    {
     "data": {
      "text/plain": [
       "'2022-12-12T06:39:37'"
      ]
     },
     "execution_count": 12,
     "metadata": {},
     "output_type": "execute_result"
    }
   ],
   "source": [
    "terminal_page_json[\"modified\"]"
   ]
  },
  {
   "cell_type": "code",
   "execution_count": 14,
   "metadata": {},
   "outputs": [
    {
     "data": {
      "text/plain": [
       "'2022-12-12T06:39:37'"
      ]
     },
     "execution_count": 14,
     "metadata": {},
     "output_type": "execute_result"
    }
   ],
   "source": [
    "terminal_page_json[\"modified_gmt\"]"
   ]
  },
  {
   "cell_type": "code",
   "execution_count": 15,
   "metadata": {},
   "outputs": [
    {
     "data": {
      "text/plain": [
       "'terminal'"
      ]
     },
     "execution_count": 15,
     "metadata": {},
     "output_type": "execute_result"
    }
   ],
   "source": [
    "terminal_page_json[\"slug\"]"
   ]
  },
  {
   "cell_type": "code",
   "execution_count": 16,
   "metadata": {},
   "outputs": [
    {
     "data": {
      "text/plain": [
       "'publish'"
      ]
     },
     "execution_count": 16,
     "metadata": {},
     "output_type": "execute_result"
    }
   ],
   "source": [
    "terminal_page_json[\"status\"]"
   ]
  },
  {
   "cell_type": "code",
   "execution_count": 17,
   "metadata": {},
   "outputs": [
    {
     "data": {
      "text/plain": [
       "'post'"
      ]
     },
     "execution_count": 17,
     "metadata": {},
     "output_type": "execute_result"
    }
   ],
   "source": [
    "terminal_page_json[\"type\"]"
   ]
  },
  {
   "cell_type": "code",
   "execution_count": 18,
   "metadata": {},
   "outputs": [
    {
     "data": {
      "text/plain": [
       "'https://maximofn.com/terminal/'"
      ]
     },
     "execution_count": 18,
     "metadata": {},
     "output_type": "execute_result"
    }
   ],
   "source": [
    "terminal_page_json[\"link\"]"
   ]
  },
  {
   "cell_type": "code",
   "execution_count": 19,
   "metadata": {},
   "outputs": [
    {
     "data": {
      "text/plain": [
       "{'rendered': 'Terminal'}"
      ]
     },
     "execution_count": 19,
     "metadata": {},
     "output_type": "execute_result"
    }
   ],
   "source": [
    "terminal_page_json[\"title\"]"
   ]
  },
  {
   "cell_type": "code",
   "execution_count": 21,
   "metadata": {},
   "outputs": [
    {
     "data": {
      "text/plain": [
       "dict_keys(['rendered', 'protected'])"
      ]
     },
     "execution_count": 21,
     "metadata": {},
     "output_type": "execute_result"
    }
   ],
   "source": [
    "terminal_page_json[\"content\"].keys()"
   ]
  },
  {
   "cell_type": "code",
   "execution_count": 22,
   "metadata": {},
   "outputs": [
    {
     "data": {
      "text/plain": [
       "False"
      ]
     },
     "execution_count": 22,
     "metadata": {},
     "output_type": "execute_result"
    }
   ],
   "source": [
    "terminal_page_json[\"content\"][\"protected\"]"
   ]
  },
  {
   "cell_type": "code",
   "execution_count": 26,
   "metadata": {},
   "outputs": [
    {
     "data": {
      "text/plain": [
       "'\\n<p>\\n\\t<!-- Custom stylesheet, it must be in the same directory as the html file -->\\n\\t<!-- Loading mathjax macro --><!-- Load mathjax --><!-- MathJax configuration -->\\n<p>\\n<!-- Open div notebook -->\\n<div id=\"notebook\" class=\"border-box-sizing\" tabindex=\"-1\">\\n\\t<!-- Open div notebook container -->\\n\\t<div id=\"notebook-container\" class=\"container\">\\n\\t\\t<!-- Open div index header -->\\n\\t\\t<div class=\"cell border-box-sizing text_cell rendered\">\\n\\t\\t\\t<h2 class=\"prompt input_prompt\">\\n\\t\\t\\t\\t<span style=\"\\n\\t\\t\\t\\tcolor: var(--darkreader-text--heading-color, var(--darkreader-text--heading-2-color,\\n\\t\\t\\t\\tvar(--darkreader-text--headings-color)));\\n\\t\\t\\t\\tfont-family: var(--fontFamily); font-size: var(--fontSize);\\n\\t\\t\\t\\tfont-style: var(--fontStyle, inherit);\\n\\t\\t\\t\\tfont-weight: var(--fontWeight);\\n\\t\\t\\t\\tletter-spacing: var(--letterSpacing);\\n\\t\\t\\t\\ttext-transform: var(--textTransform);\\n\\t\\t\\t\\tbackground-color: transparent;\\n\\t\\t\\t\\t--darkreader-inline-color: var(--darkreader-text--darkreader-text--heading-color,\\n\\t\\t\\t\\tvar(--darkreader-text--'"
      ]
     },
     "execution_count": 26,
     "metadata": {},
     "output_type": "execute_result"
    }
   ],
   "source": [
    "terminal_page_json[\"content\"][\"rendered\"][:1000]"
   ]
  },
  {
   "cell_type": "code",
   "execution_count": 28,
   "metadata": {},
   "outputs": [
    {
     "data": {
      "text/plain": [
       "dict_keys(['rendered', 'protected'])"
      ]
     },
     "execution_count": 28,
     "metadata": {},
     "output_type": "execute_result"
    }
   ],
   "source": [
    "terminal_page_json[\"excerpt\"].keys()"
   ]
  },
  {
   "cell_type": "code",
   "execution_count": 29,
   "metadata": {},
   "outputs": [
    {
     "data": {
      "text/plain": [
       "False"
      ]
     },
     "execution_count": 29,
     "metadata": {},
     "output_type": "execute_result"
    }
   ],
   "source": [
    "terminal_page_json[\"excerpt\"][\"protected\"]"
   ]
  },
  {
   "cell_type": "code",
   "execution_count": 31,
   "metadata": {},
   "outputs": [
    {
     "data": {
      "text/plain": [
       "'<p>\\U0001f7e2 Siéntete como un verdadero hacker 🖥 sabiéndolo todo sobre la terminal 💻. Entra y comienza a manejar ⌨ la terminal como un profesional</p>\\n'"
      ]
     },
     "execution_count": 31,
     "metadata": {},
     "output_type": "execute_result"
    }
   ],
   "source": [
    "terminal_page_json[\"excerpt\"][\"rendered\"]"
   ]
  },
  {
   "cell_type": "code",
   "execution_count": 32,
   "metadata": {},
   "outputs": [
    {
     "data": {
      "text/plain": [
       "1"
      ]
     },
     "execution_count": 32,
     "metadata": {},
     "output_type": "execute_result"
    }
   ],
   "source": [
    "terminal_page_json[\"author\"]"
   ]
  },
  {
   "cell_type": "code",
   "execution_count": 33,
   "metadata": {},
   "outputs": [
    {
     "data": {
      "text/plain": [
       "608"
      ]
     },
     "execution_count": 33,
     "metadata": {},
     "output_type": "execute_result"
    }
   ],
   "source": [
    "terminal_page_json[\"featured_media\"]"
   ]
  },
  {
   "cell_type": "code",
   "execution_count": 34,
   "metadata": {},
   "outputs": [
    {
     "data": {
      "text/plain": [
       "'closed'"
      ]
     },
     "execution_count": 34,
     "metadata": {},
     "output_type": "execute_result"
    }
   ],
   "source": [
    "terminal_page_json[\"comment_status\"]"
   ]
  },
  {
   "cell_type": "code",
   "execution_count": 35,
   "metadata": {},
   "outputs": [
    {
     "data": {
      "text/plain": [
       "'closed'"
      ]
     },
     "execution_count": 35,
     "metadata": {},
     "output_type": "execute_result"
    }
   ],
   "source": [
    "terminal_page_json[\"ping_status\"]"
   ]
  },
  {
   "cell_type": "code",
   "execution_count": 36,
   "metadata": {},
   "outputs": [
    {
     "data": {
      "text/plain": [
       "False"
      ]
     },
     "execution_count": 36,
     "metadata": {},
     "output_type": "execute_result"
    }
   ],
   "source": [
    "terminal_page_json[\"sticky\"]"
   ]
  },
  {
   "cell_type": "code",
   "execution_count": 37,
   "metadata": {},
   "outputs": [
    {
     "data": {
      "text/plain": [
       "''"
      ]
     },
     "execution_count": 37,
     "metadata": {},
     "output_type": "execute_result"
    }
   ],
   "source": [
    "terminal_page_json[\"template\"]"
   ]
  },
  {
   "cell_type": "code",
   "execution_count": 38,
   "metadata": {},
   "outputs": [
    {
     "data": {
      "text/plain": [
       "'standard'"
      ]
     },
     "execution_count": 38,
     "metadata": {},
     "output_type": "execute_result"
    }
   ],
   "source": [
    "terminal_page_json[\"format\"]"
   ]
  },
  {
   "cell_type": "code",
   "execution_count": 39,
   "metadata": {},
   "outputs": [
    {
     "data": {
      "text/plain": [
       "[]"
      ]
     },
     "execution_count": 39,
     "metadata": {},
     "output_type": "execute_result"
    }
   ],
   "source": [
    "terminal_page_json[\"meta\"]"
   ]
  },
  {
   "cell_type": "code",
   "execution_count": 40,
   "metadata": {},
   "outputs": [
    {
     "data": {
      "text/plain": [
       "[59, 61]"
      ]
     },
     "execution_count": 40,
     "metadata": {},
     "output_type": "execute_result"
    }
   ],
   "source": [
    "terminal_page_json[\"categories\"]"
   ]
  },
  {
   "cell_type": "code",
   "execution_count": 41,
   "metadata": {},
   "outputs": [
    {
     "data": {
      "text/plain": [
       "[69, 63, 67, 65]"
      ]
     },
     "execution_count": 41,
     "metadata": {},
     "output_type": "execute_result"
    }
   ],
   "source": [
    "terminal_page_json[\"tags\"]"
   ]
  },
  {
   "cell_type": "code",
   "execution_count": 42,
   "metadata": {},
   "outputs": [
    {
     "data": {
      "text/plain": [
       "{'styles_descriptor': {'styles': {'desktop': '', 'tablet': '', 'mobile': ''},\n",
       "  'google_fonts': [],\n",
       "  'version': 5}}"
      ]
     },
     "execution_count": 42,
     "metadata": {},
     "output_type": "execute_result"
    }
   ],
   "source": [
    "terminal_page_json[\"blocksy_meta\"]"
   ]
  },
  {
   "cell_type": "code",
   "execution_count": 48,
   "metadata": {},
   "outputs": [
    {
     "name": "stdout",
     "output_type": "stream",
     "text": [
      "<!-- This site is optimized with the Yoast SEO plugin v19.13 - https://yoast.com/wordpress/plugins/seo/ -->\n",
      "<title>Terminal - Maximo FN</title>\n",
      "<meta name=\"description\" content=\"🟢 Siéntete como un verdadero hacker 🖥 sabiéndolo todo sobre la terminal 💻. Entra y comienza a manejar ⌨ la terminal como un profesional\" />\n",
      "<meta name=\"robots\" content=\"index, follow, max-snippet:-1, max-image-preview:large, max-video-preview:-1\" />\n",
      "<link rel=\"canonical\" href=\"https://maximofn.com/terminal/\" />\n",
      "<meta property=\"og:locale\" content=\"es_ES\" />\n",
      "<meta property=\"og:type\" content=\"article\" />\n",
      "<meta property=\"og:title\" content=\"Terminal - Maximo FN\" />\n",
      "<meta property=\"og:description\" content=\"🟢 Siéntete como un verdadero hacker 🖥 sabiéndolo todo sobre la terminal 💻. Entra y comienza a manejar ⌨ la terminal como un profesional\" />\n",
      "<meta property=\"og:url\" content=\"https://maximofn.com/terminal/\" />\n",
      "<meta property=\"og:site_name\" content=\"Maximo FN\" />\n",
      "<meta property=\"article:published_time\" content=\"2022-12-12T06:39:35+00:00\" />\n",
      "<meta property=\"article:modified_time\" content=\"2022-12-12T06:39:37+00:00\" />\n",
      "<meta property=\"og:image\" content=\"https://maximofn.com/wp-content/uploads/2022/12/terminal.jpg\" />\n",
      "\t<meta property=\"og:image:width\" content=\"1000\" />\n",
      "\t<meta property=\"og:image:height\" content=\"600\" />\n",
      "\t<meta property=\"og:image:type\" content=\"image/jpeg\" />\n",
      "<meta name=\"author\" content=\"admin\" />\n",
      "<meta name=\"twitter:card\" content=\"summary_large_image\" />\n",
      "<meta name=\"twitter:label1\" content=\"Escrito por\" />\n",
      "\t<meta name=\"twitter:data1\" content=\"admin\" />\n",
      "\t<meta name=\"twitter:label2\" content=\"Tiempo de lectura\" />\n",
      "\t<meta name=\"twitter:data2\" content=\"100 minutos\" />\n",
      "<script type=\"application/ld+json\" class=\"yoast-schema-graph\">{\"@context\":\"https://schema.org\",\"@graph\":[{\"@type\":\"WebPage\",\"@id\":\"https://maximofn.com/terminal/\",\"url\":\"https://maximofn.com/terminal/\",\"name\":\"Terminal - Maximo FN\",\"isPartOf\":{\"@id\":\"https://maximofn.com/#website\"},\"datePublished\":\"2022-12-12T06:39:35+00:00\",\"dateModified\":\"2022-12-12T06:39:37+00:00\",\"author\":{\"@id\":\"https://maximofn.com/#/schema/person/0ea0528f95bec67b9271c68d5a300aed\"},\"description\":\"🟢 Siéntete como un verdadero hacker 🖥 sabiéndolo todo sobre la terminal 💻. Entra y comienza a manejar ⌨ la terminal como un profesional\",\"breadcrumb\":{\"@id\":\"https://maximofn.com/terminal/#breadcrumb\"},\"inLanguage\":\"es\",\"potentialAction\":[{\"@type\":\"ReadAction\",\"target\":[\"https://maximofn.com/terminal/\"]}]},{\"@type\":\"BreadcrumbList\",\"@id\":\"https://maximofn.com/terminal/#breadcrumb\",\"itemListElement\":[{\"@type\":\"ListItem\",\"position\":1,\"name\":\"Portada\",\"item\":\"https://maximofn.com/\"},{\"@type\":\"ListItem\",\"position\":2,\"name\":\"Terminal\"}]},{\"@type\":\"WebSite\",\"@id\":\"https://maximofn.com/#website\",\"url\":\"https://maximofn.com/\",\"name\":\"Maximo FN\",\"description\":\"Web de Maximo FN\",\"potentialAction\":[{\"@type\":\"SearchAction\",\"target\":{\"@type\":\"EntryPoint\",\"urlTemplate\":\"https://maximofn.com/?s={search_term_string}\"},\"query-input\":\"required name=search_term_string\"}],\"inLanguage\":\"es\"},{\"@type\":\"Person\",\"@id\":\"https://maximofn.com/#/schema/person/0ea0528f95bec67b9271c68d5a300aed\",\"name\":\"admin\",\"image\":{\"@type\":\"ImageObject\",\"inLanguage\":\"es\",\"@id\":\"https://maximofn.com/#/schema/person/image/\",\"url\":\"https://secure.gravatar.com/avatar/d42cd1341d871ab6d87a2ac338ae6f60?s=96&d=mm&r=g\",\"contentUrl\":\"https://secure.gravatar.com/avatar/d42cd1341d871ab6d87a2ac338ae6f60?s=96&d=mm&r=g\",\"caption\":\"admin\"},\"sameAs\":[\"https://maximofn.com\"]}]}</script>\n",
      "<!-- / Yoast SEO plugin. -->\n"
     ]
    }
   ],
   "source": [
    "print(terminal_page_json[\"yoast_head\"])"
   ]
  },
  {
   "cell_type": "code",
   "execution_count": 51,
   "metadata": {},
   "outputs": [
    {
     "data": {
      "text/plain": [
       "['title',\n",
       " 'description',\n",
       " 'robots',\n",
       " 'canonical',\n",
       " 'og_locale',\n",
       " 'og_type',\n",
       " 'og_title',\n",
       " 'og_description',\n",
       " 'og_url',\n",
       " 'og_site_name',\n",
       " 'article_published_time',\n",
       " 'article_modified_time',\n",
       " 'og_image',\n",
       " 'author',\n",
       " 'twitter_card',\n",
       " 'twitter_misc',\n",
       " 'schema']"
      ]
     },
     "execution_count": 51,
     "metadata": {},
     "output_type": "execute_result"
    }
   ],
   "source": [
    "list(terminal_page_json[\"yoast_head_json\"].keys())"
   ]
  },
  {
   "cell_type": "code",
   "execution_count": 129,
   "metadata": {},
   "outputs": [],
   "source": [
    "# Save terminal_page_json[\"yoast_head_json\"] to json file\n",
    "with open(\"terminal_page_json_yoast_head_json.json\", \"w\") as f:\n",
    "    json.dump(terminal_page_json[\"yoast_head_json\"], f)"
   ]
  },
  {
   "cell_type": "code",
   "execution_count": 52,
   "metadata": {},
   "outputs": [
    {
     "data": {
      "text/plain": [
       "'Terminal - Maximo FN'"
      ]
     },
     "execution_count": 52,
     "metadata": {},
     "output_type": "execute_result"
    }
   ],
   "source": [
    "terminal_page_json[\"yoast_head_json\"][\"title\"]"
   ]
  },
  {
   "cell_type": "code",
   "execution_count": 53,
   "metadata": {},
   "outputs": [
    {
     "data": {
      "text/plain": [
       "'\\U0001f7e2 Siéntete como un verdadero hacker 🖥 sabiéndolo todo sobre la terminal 💻. Entra y comienza a manejar ⌨ la terminal como un profesional'"
      ]
     },
     "execution_count": 53,
     "metadata": {},
     "output_type": "execute_result"
    }
   ],
   "source": [
    "terminal_page_json[\"yoast_head_json\"][\"description\"]"
   ]
  },
  {
   "cell_type": "code",
   "execution_count": 130,
   "metadata": {},
   "outputs": [
    {
     "data": {
      "text/plain": [
       "['index', 'follow', 'max-snippet', 'max-image-preview', 'max-video-preview']"
      ]
     },
     "execution_count": 130,
     "metadata": {},
     "output_type": "execute_result"
    }
   ],
   "source": [
    "list(terminal_page_json[\"yoast_head_json\"][\"robots\"].keys())"
   ]
  },
  {
   "cell_type": "code",
   "execution_count": 131,
   "metadata": {},
   "outputs": [
    {
     "data": {
      "text/plain": [
       "'index'"
      ]
     },
     "execution_count": 131,
     "metadata": {},
     "output_type": "execute_result"
    }
   ],
   "source": [
    "terminal_page_json[\"yoast_head_json\"][\"robots\"][\"index\"]"
   ]
  },
  {
   "cell_type": "code",
   "execution_count": 132,
   "metadata": {},
   "outputs": [
    {
     "data": {
      "text/plain": [
       "'follow'"
      ]
     },
     "execution_count": 132,
     "metadata": {},
     "output_type": "execute_result"
    }
   ],
   "source": [
    "terminal_page_json[\"yoast_head_json\"][\"robots\"][\"follow\"]"
   ]
  },
  {
   "cell_type": "code",
   "execution_count": 137,
   "metadata": {},
   "outputs": [
    {
     "data": {
      "text/plain": [
       "'max-snippet:-1'"
      ]
     },
     "execution_count": 137,
     "metadata": {},
     "output_type": "execute_result"
    }
   ],
   "source": [
    "terminal_page_json[\"yoast_head_json\"][\"robots\"][\"max-snippet\"]"
   ]
  },
  {
   "cell_type": "code",
   "execution_count": 134,
   "metadata": {},
   "outputs": [
    {
     "data": {
      "text/plain": [
       "'max-image-preview:large'"
      ]
     },
     "execution_count": 134,
     "metadata": {},
     "output_type": "execute_result"
    }
   ],
   "source": [
    "terminal_page_json[\"yoast_head_json\"][\"robots\"][\"max-image-preview\"]"
   ]
  },
  {
   "cell_type": "code",
   "execution_count": 135,
   "metadata": {},
   "outputs": [
    {
     "data": {
      "text/plain": [
       "'max-video-preview:-1'"
      ]
     },
     "execution_count": 135,
     "metadata": {},
     "output_type": "execute_result"
    }
   ],
   "source": [
    "terminal_page_json[\"yoast_head_json\"][\"robots\"][\"max-video-preview\"]"
   ]
  },
  {
   "cell_type": "code",
   "execution_count": 55,
   "metadata": {},
   "outputs": [
    {
     "data": {
      "text/plain": [
       "'https://maximofn.com/terminal/'"
      ]
     },
     "execution_count": 55,
     "metadata": {},
     "output_type": "execute_result"
    }
   ],
   "source": [
    "terminal_page_json[\"yoast_head_json\"][\"canonical\"]"
   ]
  },
  {
   "cell_type": "code",
   "execution_count": 56,
   "metadata": {},
   "outputs": [
    {
     "data": {
      "text/plain": [
       "'es_ES'"
      ]
     },
     "execution_count": 56,
     "metadata": {},
     "output_type": "execute_result"
    }
   ],
   "source": [
    "terminal_page_json[\"yoast_head_json\"][\"og_locale\"]"
   ]
  },
  {
   "cell_type": "code",
   "execution_count": 57,
   "metadata": {},
   "outputs": [
    {
     "data": {
      "text/plain": [
       "'article'"
      ]
     },
     "execution_count": 57,
     "metadata": {},
     "output_type": "execute_result"
    }
   ],
   "source": [
    "terminal_page_json[\"yoast_head_json\"][\"og_type\"]"
   ]
  },
  {
   "cell_type": "code",
   "execution_count": 58,
   "metadata": {},
   "outputs": [
    {
     "data": {
      "text/plain": [
       "'Terminal - Maximo FN'"
      ]
     },
     "execution_count": 58,
     "metadata": {},
     "output_type": "execute_result"
    }
   ],
   "source": [
    "terminal_page_json[\"yoast_head_json\"][\"og_title\"]"
   ]
  },
  {
   "cell_type": "code",
   "execution_count": 59,
   "metadata": {},
   "outputs": [
    {
     "data": {
      "text/plain": [
       "'\\U0001f7e2 Siéntete como un verdadero hacker 🖥 sabiéndolo todo sobre la terminal 💻. Entra y comienza a manejar ⌨ la terminal como un profesional'"
      ]
     },
     "execution_count": 59,
     "metadata": {},
     "output_type": "execute_result"
    }
   ],
   "source": [
    "terminal_page_json[\"yoast_head_json\"][\"og_description\"]"
   ]
  },
  {
   "cell_type": "code",
   "execution_count": 60,
   "metadata": {},
   "outputs": [
    {
     "data": {
      "text/plain": [
       "'https://maximofn.com/terminal/'"
      ]
     },
     "execution_count": 60,
     "metadata": {},
     "output_type": "execute_result"
    }
   ],
   "source": [
    "terminal_page_json[\"yoast_head_json\"][\"og_url\"]"
   ]
  },
  {
   "cell_type": "code",
   "execution_count": 61,
   "metadata": {},
   "outputs": [
    {
     "data": {
      "text/plain": [
       "'Maximo FN'"
      ]
     },
     "execution_count": 61,
     "metadata": {},
     "output_type": "execute_result"
    }
   ],
   "source": [
    "terminal_page_json[\"yoast_head_json\"][\"og_site_name\"]"
   ]
  },
  {
   "cell_type": "code",
   "execution_count": 62,
   "metadata": {},
   "outputs": [
    {
     "data": {
      "text/plain": [
       "'2022-12-12T06:39:35+00:00'"
      ]
     },
     "execution_count": 62,
     "metadata": {},
     "output_type": "execute_result"
    }
   ],
   "source": [
    "terminal_page_json[\"yoast_head_json\"][\"article_published_time\"]"
   ]
  },
  {
   "cell_type": "code",
   "execution_count": 63,
   "metadata": {},
   "outputs": [
    {
     "data": {
      "text/plain": [
       "'2022-12-12T06:39:37+00:00'"
      ]
     },
     "execution_count": 63,
     "metadata": {},
     "output_type": "execute_result"
    }
   ],
   "source": [
    "terminal_page_json[\"yoast_head_json\"][\"article_modified_time\"]"
   ]
  },
  {
   "cell_type": "code",
   "execution_count": 71,
   "metadata": {},
   "outputs": [
    {
     "data": {
      "text/plain": [
       "(list, 1)"
      ]
     },
     "execution_count": 71,
     "metadata": {},
     "output_type": "execute_result"
    }
   ],
   "source": [
    "type(terminal_page_json[\"yoast_head_json\"][\"og_image\"]), len(terminal_page_json[\"yoast_head_json\"][\"og_image\"])"
   ]
  },
  {
   "cell_type": "code",
   "execution_count": 68,
   "metadata": {},
   "outputs": [
    {
     "data": {
      "text/plain": [
       "['width', 'height', 'url', 'type']"
      ]
     },
     "execution_count": 68,
     "metadata": {},
     "output_type": "execute_result"
    }
   ],
   "source": [
    "list(terminal_page_json[\"yoast_head_json\"][\"og_image\"][0].keys())"
   ]
  },
  {
   "cell_type": "code",
   "execution_count": 69,
   "metadata": {},
   "outputs": [
    {
     "data": {
      "text/plain": [
       "1000"
      ]
     },
     "execution_count": 69,
     "metadata": {},
     "output_type": "execute_result"
    }
   ],
   "source": [
    "terminal_page_json[\"yoast_head_json\"][\"og_image\"][0][\"width\"]"
   ]
  },
  {
   "cell_type": "code",
   "execution_count": 70,
   "metadata": {},
   "outputs": [
    {
     "data": {
      "text/plain": [
       "600"
      ]
     },
     "execution_count": 70,
     "metadata": {},
     "output_type": "execute_result"
    }
   ],
   "source": [
    "terminal_page_json[\"yoast_head_json\"][\"og_image\"][0][\"height\"]"
   ]
  },
  {
   "cell_type": "code",
   "execution_count": 72,
   "metadata": {},
   "outputs": [
    {
     "data": {
      "text/plain": [
       "'https://maximofn.com/wp-content/uploads/2022/12/terminal.jpg'"
      ]
     },
     "execution_count": 72,
     "metadata": {},
     "output_type": "execute_result"
    }
   ],
   "source": [
    "terminal_page_json[\"yoast_head_json\"][\"og_image\"][0][\"url\"]"
   ]
  },
  {
   "cell_type": "code",
   "execution_count": 73,
   "metadata": {},
   "outputs": [
    {
     "data": {
      "text/plain": [
       "'image/jpeg'"
      ]
     },
     "execution_count": 73,
     "metadata": {},
     "output_type": "execute_result"
    }
   ],
   "source": [
    "terminal_page_json[\"yoast_head_json\"][\"og_image\"][0][\"type\"]"
   ]
  },
  {
   "cell_type": "code",
   "execution_count": 75,
   "metadata": {},
   "outputs": [
    {
     "data": {
      "text/plain": [
       "'admin'"
      ]
     },
     "execution_count": 75,
     "metadata": {},
     "output_type": "execute_result"
    }
   ],
   "source": [
    "terminal_page_json[\"yoast_head_json\"][\"author\"]"
   ]
  },
  {
   "cell_type": "code",
   "execution_count": 76,
   "metadata": {},
   "outputs": [
    {
     "data": {
      "text/plain": [
       "'summary_large_image'"
      ]
     },
     "execution_count": 76,
     "metadata": {},
     "output_type": "execute_result"
    }
   ],
   "source": [
    "terminal_page_json[\"yoast_head_json\"][\"twitter_card\"]"
   ]
  },
  {
   "cell_type": "code",
   "execution_count": 78,
   "metadata": {},
   "outputs": [
    {
     "data": {
      "text/plain": [
       "['Escrito por', 'Tiempo de lectura']"
      ]
     },
     "execution_count": 78,
     "metadata": {},
     "output_type": "execute_result"
    }
   ],
   "source": [
    "list(terminal_page_json[\"yoast_head_json\"][\"twitter_misc\"].keys())"
   ]
  },
  {
   "cell_type": "code",
   "execution_count": 79,
   "metadata": {},
   "outputs": [
    {
     "data": {
      "text/plain": [
       "'admin'"
      ]
     },
     "execution_count": 79,
     "metadata": {},
     "output_type": "execute_result"
    }
   ],
   "source": [
    "terminal_page_json[\"yoast_head_json\"][\"twitter_misc\"][\"Escrito por\"]"
   ]
  },
  {
   "cell_type": "code",
   "execution_count": 80,
   "metadata": {},
   "outputs": [
    {
     "data": {
      "text/plain": [
       "'100 minutos'"
      ]
     },
     "execution_count": 80,
     "metadata": {},
     "output_type": "execute_result"
    }
   ],
   "source": [
    "terminal_page_json[\"yoast_head_json\"][\"twitter_misc\"][\"Tiempo de lectura\"]"
   ]
  },
  {
   "cell_type": "code",
   "execution_count": 82,
   "metadata": {},
   "outputs": [
    {
     "data": {
      "text/plain": [
       "['@context', '@graph']"
      ]
     },
     "execution_count": 82,
     "metadata": {},
     "output_type": "execute_result"
    }
   ],
   "source": [
    "list(terminal_page_json[\"yoast_head_json\"][\"schema\"].keys())"
   ]
  },
  {
   "cell_type": "code",
   "execution_count": 83,
   "metadata": {},
   "outputs": [
    {
     "data": {
      "text/plain": [
       "'https://schema.org'"
      ]
     },
     "execution_count": 83,
     "metadata": {},
     "output_type": "execute_result"
    }
   ],
   "source": [
    "terminal_page_json[\"yoast_head_json\"][\"schema\"][\"@context\"]"
   ]
  },
  {
   "cell_type": "code",
   "execution_count": 85,
   "metadata": {},
   "outputs": [
    {
     "data": {
      "text/plain": [
       "(list, 4)"
      ]
     },
     "execution_count": 85,
     "metadata": {},
     "output_type": "execute_result"
    }
   ],
   "source": [
    "type(terminal_page_json[\"yoast_head_json\"][\"schema\"][\"@graph\"]), len(terminal_page_json[\"yoast_head_json\"][\"schema\"][\"@graph\"])"
   ]
  },
  {
   "cell_type": "code",
   "execution_count": 87,
   "metadata": {},
   "outputs": [
    {
     "data": {
      "text/plain": [
       "['@type',\n",
       " '@id',\n",
       " 'url',\n",
       " 'name',\n",
       " 'isPartOf',\n",
       " 'datePublished',\n",
       " 'dateModified',\n",
       " 'author',\n",
       " 'description',\n",
       " 'breadcrumb',\n",
       " 'inLanguage',\n",
       " 'potentialAction']"
      ]
     },
     "execution_count": 87,
     "metadata": {},
     "output_type": "execute_result"
    }
   ],
   "source": [
    "list(terminal_page_json[\"yoast_head_json\"][\"schema\"][\"@graph\"][0].keys())"
   ]
  },
  {
   "cell_type": "code",
   "execution_count": 88,
   "metadata": {},
   "outputs": [
    {
     "data": {
      "text/plain": [
       "'WebPage'"
      ]
     },
     "execution_count": 88,
     "metadata": {},
     "output_type": "execute_result"
    }
   ],
   "source": [
    "terminal_page_json[\"yoast_head_json\"][\"schema\"][\"@graph\"][0][\"@type\"]"
   ]
  },
  {
   "cell_type": "code",
   "execution_count": 89,
   "metadata": {},
   "outputs": [
    {
     "data": {
      "text/plain": [
       "'https://maximofn.com/terminal/'"
      ]
     },
     "execution_count": 89,
     "metadata": {},
     "output_type": "execute_result"
    }
   ],
   "source": [
    "terminal_page_json[\"yoast_head_json\"][\"schema\"][\"@graph\"][0][\"@id\"]"
   ]
  },
  {
   "cell_type": "code",
   "execution_count": 90,
   "metadata": {},
   "outputs": [
    {
     "data": {
      "text/plain": [
       "'https://maximofn.com/terminal/'"
      ]
     },
     "execution_count": 90,
     "metadata": {},
     "output_type": "execute_result"
    }
   ],
   "source": [
    "terminal_page_json[\"yoast_head_json\"][\"schema\"][\"@graph\"][0][\"url\"]"
   ]
  },
  {
   "cell_type": "code",
   "execution_count": 91,
   "metadata": {},
   "outputs": [
    {
     "data": {
      "text/plain": [
       "'Terminal - Maximo FN'"
      ]
     },
     "execution_count": 91,
     "metadata": {},
     "output_type": "execute_result"
    }
   ],
   "source": [
    "terminal_page_json[\"yoast_head_json\"][\"schema\"][\"@graph\"][0][\"name\"]"
   ]
  },
  {
   "cell_type": "code",
   "execution_count": 93,
   "metadata": {},
   "outputs": [
    {
     "data": {
      "text/plain": [
       "['@id']"
      ]
     },
     "execution_count": 93,
     "metadata": {},
     "output_type": "execute_result"
    }
   ],
   "source": [
    "list(terminal_page_json[\"yoast_head_json\"][\"schema\"][\"@graph\"][0][\"isPartOf\"].keys())"
   ]
  },
  {
   "cell_type": "code",
   "execution_count": 94,
   "metadata": {},
   "outputs": [
    {
     "data": {
      "text/plain": [
       "'https://maximofn.com/#website'"
      ]
     },
     "execution_count": 94,
     "metadata": {},
     "output_type": "execute_result"
    }
   ],
   "source": [
    "terminal_page_json[\"yoast_head_json\"][\"schema\"][\"@graph\"][0][\"isPartOf\"][\"@id\"]"
   ]
  },
  {
   "cell_type": "code",
   "execution_count": 95,
   "metadata": {},
   "outputs": [
    {
     "data": {
      "text/plain": [
       "'2022-12-12T06:39:35+00:00'"
      ]
     },
     "execution_count": 95,
     "metadata": {},
     "output_type": "execute_result"
    }
   ],
   "source": [
    "terminal_page_json[\"yoast_head_json\"][\"schema\"][\"@graph\"][0][\"datePublished\"]"
   ]
  },
  {
   "cell_type": "code",
   "execution_count": 96,
   "metadata": {},
   "outputs": [
    {
     "data": {
      "text/plain": [
       "'2022-12-12T06:39:37+00:00'"
      ]
     },
     "execution_count": 96,
     "metadata": {},
     "output_type": "execute_result"
    }
   ],
   "source": [
    "terminal_page_json[\"yoast_head_json\"][\"schema\"][\"@graph\"][0][\"dateModified\"]"
   ]
  },
  {
   "cell_type": "code",
   "execution_count": 98,
   "metadata": {},
   "outputs": [
    {
     "data": {
      "text/plain": [
       "['@id']"
      ]
     },
     "execution_count": 98,
     "metadata": {},
     "output_type": "execute_result"
    }
   ],
   "source": [
    "list(terminal_page_json[\"yoast_head_json\"][\"schema\"][\"@graph\"][0][\"author\"].keys())"
   ]
  },
  {
   "cell_type": "code",
   "execution_count": 99,
   "metadata": {},
   "outputs": [
    {
     "data": {
      "text/plain": [
       "'https://maximofn.com/#/schema/person/0ea0528f95bec67b9271c68d5a300aed'"
      ]
     },
     "execution_count": 99,
     "metadata": {},
     "output_type": "execute_result"
    }
   ],
   "source": [
    "terminal_page_json[\"yoast_head_json\"][\"schema\"][\"@graph\"][0][\"author\"][\"@id\"]"
   ]
  },
  {
   "cell_type": "code",
   "execution_count": 100,
   "metadata": {},
   "outputs": [
    {
     "data": {
      "text/plain": [
       "'\\U0001f7e2 Siéntete como un verdadero hacker 🖥 sabiéndolo todo sobre la terminal 💻. Entra y comienza a manejar ⌨ la terminal como un profesional'"
      ]
     },
     "execution_count": 100,
     "metadata": {},
     "output_type": "execute_result"
    }
   ],
   "source": [
    "terminal_page_json[\"yoast_head_json\"][\"schema\"][\"@graph\"][0][\"description\"]"
   ]
  },
  {
   "cell_type": "code",
   "execution_count": 102,
   "metadata": {},
   "outputs": [
    {
     "data": {
      "text/plain": [
       "['@id']"
      ]
     },
     "execution_count": 102,
     "metadata": {},
     "output_type": "execute_result"
    }
   ],
   "source": [
    "list(terminal_page_json[\"yoast_head_json\"][\"schema\"][\"@graph\"][0][\"breadcrumb\"].keys())"
   ]
  },
  {
   "cell_type": "code",
   "execution_count": 104,
   "metadata": {},
   "outputs": [
    {
     "data": {
      "text/plain": [
       "'https://maximofn.com/terminal/#breadcrumb'"
      ]
     },
     "execution_count": 104,
     "metadata": {},
     "output_type": "execute_result"
    }
   ],
   "source": [
    "terminal_page_json[\"yoast_head_json\"][\"schema\"][\"@graph\"][0][\"breadcrumb\"][\"@id\"]"
   ]
  },
  {
   "cell_type": "code",
   "execution_count": 105,
   "metadata": {},
   "outputs": [
    {
     "data": {
      "text/plain": [
       "'es'"
      ]
     },
     "execution_count": 105,
     "metadata": {},
     "output_type": "execute_result"
    }
   ],
   "source": [
    "terminal_page_json[\"yoast_head_json\"][\"schema\"][\"@graph\"][0][\"inLanguage\"]"
   ]
  },
  {
   "cell_type": "code",
   "execution_count": 108,
   "metadata": {},
   "outputs": [
    {
     "data": {
      "text/plain": [
       "(list, 1)"
      ]
     },
     "execution_count": 108,
     "metadata": {},
     "output_type": "execute_result"
    }
   ],
   "source": [
    "type(terminal_page_json[\"yoast_head_json\"][\"schema\"][\"@graph\"][0][\"potentialAction\"]), len(terminal_page_json[\"yoast_head_json\"][\"schema\"][\"@graph\"][0][\"potentialAction\"])"
   ]
  },
  {
   "cell_type": "code",
   "execution_count": 109,
   "metadata": {},
   "outputs": [
    {
     "data": {
      "text/plain": [
       "['@type', 'target']"
      ]
     },
     "execution_count": 109,
     "metadata": {},
     "output_type": "execute_result"
    }
   ],
   "source": [
    "list(terminal_page_json[\"yoast_head_json\"][\"schema\"][\"@graph\"][0][\"potentialAction\"][0].keys())"
   ]
  },
  {
   "cell_type": "code",
   "execution_count": 110,
   "metadata": {},
   "outputs": [
    {
     "data": {
      "text/plain": [
       "'ReadAction'"
      ]
     },
     "execution_count": 110,
     "metadata": {},
     "output_type": "execute_result"
    }
   ],
   "source": [
    "terminal_page_json[\"yoast_head_json\"][\"schema\"][\"@graph\"][0][\"potentialAction\"][0][\"@type\"]"
   ]
  },
  {
   "cell_type": "code",
   "execution_count": 112,
   "metadata": {},
   "outputs": [
    {
     "data": {
      "text/plain": [
       "['https://maximofn.com/terminal/']"
      ]
     },
     "execution_count": 112,
     "metadata": {},
     "output_type": "execute_result"
    }
   ],
   "source": [
    "terminal_page_json[\"yoast_head_json\"][\"schema\"][\"@graph\"][0][\"potentialAction\"][0][\"target\"]"
   ]
  },
  {
   "cell_type": "code",
   "execution_count": 114,
   "metadata": {},
   "outputs": [
    {
     "data": {
      "text/plain": [
       "['@type', '@id', 'itemListElement']"
      ]
     },
     "execution_count": 114,
     "metadata": {},
     "output_type": "execute_result"
    }
   ],
   "source": [
    "list(terminal_page_json[\"yoast_head_json\"][\"schema\"][\"@graph\"][1].keys())"
   ]
  },
  {
   "cell_type": "code",
   "execution_count": 115,
   "metadata": {},
   "outputs": [
    {
     "data": {
      "text/plain": [
       "'BreadcrumbList'"
      ]
     },
     "execution_count": 115,
     "metadata": {},
     "output_type": "execute_result"
    }
   ],
   "source": [
    "terminal_page_json[\"yoast_head_json\"][\"schema\"][\"@graph\"][1][\"@type\"]"
   ]
  },
  {
   "cell_type": "code",
   "execution_count": 116,
   "metadata": {},
   "outputs": [
    {
     "data": {
      "text/plain": [
       "'https://maximofn.com/terminal/#breadcrumb'"
      ]
     },
     "execution_count": 116,
     "metadata": {},
     "output_type": "execute_result"
    }
   ],
   "source": [
    "terminal_page_json[\"yoast_head_json\"][\"schema\"][\"@graph\"][1][\"@id\"]"
   ]
  },
  {
   "cell_type": "code",
   "execution_count": 118,
   "metadata": {},
   "outputs": [
    {
     "data": {
      "text/plain": [
       "(list, 2)"
      ]
     },
     "execution_count": 118,
     "metadata": {},
     "output_type": "execute_result"
    }
   ],
   "source": [
    "type(terminal_page_json[\"yoast_head_json\"][\"schema\"][\"@graph\"][1][\"itemListElement\"]), len(terminal_page_json[\"yoast_head_json\"][\"schema\"][\"@graph\"][1][\"itemListElement\"])"
   ]
  },
  {
   "cell_type": "code",
   "execution_count": 119,
   "metadata": {},
   "outputs": [
    {
     "data": {
      "text/plain": [
       "['@type', 'position', 'name', 'item']"
      ]
     },
     "execution_count": 119,
     "metadata": {},
     "output_type": "execute_result"
    }
   ],
   "source": [
    "list(terminal_page_json[\"yoast_head_json\"][\"schema\"][\"@graph\"][1][\"itemListElement\"][0].keys())"
   ]
  },
  {
   "cell_type": "code",
   "execution_count": 120,
   "metadata": {},
   "outputs": [
    {
     "data": {
      "text/plain": [
       "'ListItem'"
      ]
     },
     "execution_count": 120,
     "metadata": {},
     "output_type": "execute_result"
    }
   ],
   "source": [
    "terminal_page_json[\"yoast_head_json\"][\"schema\"][\"@graph\"][1][\"itemListElement\"][0][\"@type\"]"
   ]
  },
  {
   "cell_type": "code",
   "execution_count": 121,
   "metadata": {},
   "outputs": [
    {
     "data": {
      "text/plain": [
       "1"
      ]
     },
     "execution_count": 121,
     "metadata": {},
     "output_type": "execute_result"
    }
   ],
   "source": [
    "terminal_page_json[\"yoast_head_json\"][\"schema\"][\"@graph\"][1][\"itemListElement\"][0][\"position\"]"
   ]
  },
  {
   "cell_type": "code",
   "execution_count": 122,
   "metadata": {},
   "outputs": [
    {
     "data": {
      "text/plain": [
       "'Portada'"
      ]
     },
     "execution_count": 122,
     "metadata": {},
     "output_type": "execute_result"
    }
   ],
   "source": [
    "terminal_page_json[\"yoast_head_json\"][\"schema\"][\"@graph\"][1][\"itemListElement\"][0][\"name\"]"
   ]
  },
  {
   "cell_type": "code",
   "execution_count": 123,
   "metadata": {},
   "outputs": [
    {
     "data": {
      "text/plain": [
       "'https://maximofn.com/'"
      ]
     },
     "execution_count": 123,
     "metadata": {},
     "output_type": "execute_result"
    }
   ],
   "source": [
    "terminal_page_json[\"yoast_head_json\"][\"schema\"][\"@graph\"][1][\"itemListElement\"][0][\"item\"]"
   ]
  },
  {
   "cell_type": "code",
   "execution_count": 124,
   "metadata": {},
   "outputs": [
    {
     "data": {
      "text/plain": [
       "['@type', 'position', 'name']"
      ]
     },
     "execution_count": 124,
     "metadata": {},
     "output_type": "execute_result"
    }
   ],
   "source": [
    "list(terminal_page_json[\"yoast_head_json\"][\"schema\"][\"@graph\"][1][\"itemListElement\"][1].keys())"
   ]
  },
  {
   "cell_type": "code",
   "execution_count": 125,
   "metadata": {},
   "outputs": [
    {
     "data": {
      "text/plain": [
       "'ListItem'"
      ]
     },
     "execution_count": 125,
     "metadata": {},
     "output_type": "execute_result"
    }
   ],
   "source": [
    "terminal_page_json[\"yoast_head_json\"][\"schema\"][\"@graph\"][1][\"itemListElement\"][1][\"@type\"]"
   ]
  },
  {
   "cell_type": "code",
   "execution_count": 126,
   "metadata": {},
   "outputs": [
    {
     "data": {
      "text/plain": [
       "2"
      ]
     },
     "execution_count": 126,
     "metadata": {},
     "output_type": "execute_result"
    }
   ],
   "source": [
    "terminal_page_json[\"yoast_head_json\"][\"schema\"][\"@graph\"][1][\"itemListElement\"][1][\"position\"]"
   ]
  },
  {
   "cell_type": "code",
   "execution_count": 127,
   "metadata": {},
   "outputs": [
    {
     "data": {
      "text/plain": [
       "'Terminal'"
      ]
     },
     "execution_count": 127,
     "metadata": {},
     "output_type": "execute_result"
    }
   ],
   "source": [
    "terminal_page_json[\"yoast_head_json\"][\"schema\"][\"@graph\"][1][\"itemListElement\"][1][\"name\"]"
   ]
  },
  {
   "cell_type": "code",
   "execution_count": 139,
   "metadata": {},
   "outputs": [
    {
     "data": {
      "text/plain": [
       "['@type', '@id', 'url', 'name', 'description', 'potentialAction', 'inLanguage']"
      ]
     },
     "execution_count": 139,
     "metadata": {},
     "output_type": "execute_result"
    }
   ],
   "source": [
    "list(terminal_page_json[\"yoast_head_json\"][\"schema\"][\"@graph\"][2].keys())"
   ]
  },
  {
   "cell_type": "code",
   "execution_count": 140,
   "metadata": {},
   "outputs": [
    {
     "data": {
      "text/plain": [
       "'WebSite'"
      ]
     },
     "execution_count": 140,
     "metadata": {},
     "output_type": "execute_result"
    }
   ],
   "source": [
    "terminal_page_json[\"yoast_head_json\"][\"schema\"][\"@graph\"][2][\"@type\"]"
   ]
  },
  {
   "cell_type": "code",
   "execution_count": 141,
   "metadata": {},
   "outputs": [
    {
     "data": {
      "text/plain": [
       "'https://maximofn.com/#website'"
      ]
     },
     "execution_count": 141,
     "metadata": {},
     "output_type": "execute_result"
    }
   ],
   "source": [
    "terminal_page_json[\"yoast_head_json\"][\"schema\"][\"@graph\"][2][\"@id\"]"
   ]
  },
  {
   "cell_type": "code",
   "execution_count": 142,
   "metadata": {},
   "outputs": [
    {
     "data": {
      "text/plain": [
       "'https://maximofn.com/'"
      ]
     },
     "execution_count": 142,
     "metadata": {},
     "output_type": "execute_result"
    }
   ],
   "source": [
    "terminal_page_json[\"yoast_head_json\"][\"schema\"][\"@graph\"][2][\"url\"]"
   ]
  },
  {
   "cell_type": "code",
   "execution_count": 143,
   "metadata": {},
   "outputs": [
    {
     "data": {
      "text/plain": [
       "'Maximo FN'"
      ]
     },
     "execution_count": 143,
     "metadata": {},
     "output_type": "execute_result"
    }
   ],
   "source": [
    "terminal_page_json[\"yoast_head_json\"][\"schema\"][\"@graph\"][2][\"name\"]"
   ]
  },
  {
   "cell_type": "code",
   "execution_count": 144,
   "metadata": {},
   "outputs": [
    {
     "data": {
      "text/plain": [
       "'Web de Maximo FN'"
      ]
     },
     "execution_count": 144,
     "metadata": {},
     "output_type": "execute_result"
    }
   ],
   "source": [
    "terminal_page_json[\"yoast_head_json\"][\"schema\"][\"@graph\"][2][\"description\"]"
   ]
  },
  {
   "cell_type": "code",
   "execution_count": 146,
   "metadata": {},
   "outputs": [
    {
     "data": {
      "text/plain": [
       "(list, 1)"
      ]
     },
     "execution_count": 146,
     "metadata": {},
     "output_type": "execute_result"
    }
   ],
   "source": [
    "type(terminal_page_json[\"yoast_head_json\"][\"schema\"][\"@graph\"][2][\"potentialAction\"]), len(terminal_page_json[\"yoast_head_json\"][\"schema\"][\"@graph\"][2][\"potentialAction\"])"
   ]
  },
  {
   "cell_type": "code",
   "execution_count": 147,
   "metadata": {},
   "outputs": [
    {
     "data": {
      "text/plain": [
       "['@type', 'target', 'query-input']"
      ]
     },
     "execution_count": 147,
     "metadata": {},
     "output_type": "execute_result"
    }
   ],
   "source": [
    "list(terminal_page_json[\"yoast_head_json\"][\"schema\"][\"@graph\"][2][\"potentialAction\"][0].keys())"
   ]
  },
  {
   "cell_type": "code",
   "execution_count": 148,
   "metadata": {},
   "outputs": [
    {
     "data": {
      "text/plain": [
       "'SearchAction'"
      ]
     },
     "execution_count": 148,
     "metadata": {},
     "output_type": "execute_result"
    }
   ],
   "source": [
    "terminal_page_json[\"yoast_head_json\"][\"schema\"][\"@graph\"][2][\"potentialAction\"][0][\"@type\"]"
   ]
  },
  {
   "cell_type": "code",
   "execution_count": 150,
   "metadata": {},
   "outputs": [
    {
     "data": {
      "text/plain": [
       "['@type', 'urlTemplate']"
      ]
     },
     "execution_count": 150,
     "metadata": {},
     "output_type": "execute_result"
    }
   ],
   "source": [
    "list(terminal_page_json[\"yoast_head_json\"][\"schema\"][\"@graph\"][2][\"potentialAction\"][0][\"target\"].keys())"
   ]
  },
  {
   "cell_type": "code",
   "execution_count": 151,
   "metadata": {},
   "outputs": [
    {
     "data": {
      "text/plain": [
       "'EntryPoint'"
      ]
     },
     "execution_count": 151,
     "metadata": {},
     "output_type": "execute_result"
    }
   ],
   "source": [
    "terminal_page_json[\"yoast_head_json\"][\"schema\"][\"@graph\"][2][\"potentialAction\"][0][\"target\"][\"@type\"]"
   ]
  },
  {
   "cell_type": "code",
   "execution_count": 152,
   "metadata": {},
   "outputs": [
    {
     "data": {
      "text/plain": [
       "'https://maximofn.com/?s={search_term_string}'"
      ]
     },
     "execution_count": 152,
     "metadata": {},
     "output_type": "execute_result"
    }
   ],
   "source": [
    "terminal_page_json[\"yoast_head_json\"][\"schema\"][\"@graph\"][2][\"potentialAction\"][0][\"target\"][\"urlTemplate\"]"
   ]
  },
  {
   "cell_type": "code",
   "execution_count": 153,
   "metadata": {},
   "outputs": [
    {
     "data": {
      "text/plain": [
       "'required name=search_term_string'"
      ]
     },
     "execution_count": 153,
     "metadata": {},
     "output_type": "execute_result"
    }
   ],
   "source": [
    "terminal_page_json[\"yoast_head_json\"][\"schema\"][\"@graph\"][2][\"potentialAction\"][0][\"query-input\"]"
   ]
  },
  {
   "cell_type": "code",
   "execution_count": 154,
   "metadata": {},
   "outputs": [
    {
     "data": {
      "text/plain": [
       "'es'"
      ]
     },
     "execution_count": 154,
     "metadata": {},
     "output_type": "execute_result"
    }
   ],
   "source": [
    "terminal_page_json[\"yoast_head_json\"][\"schema\"][\"@graph\"][2][\"inLanguage\"]"
   ]
  },
  {
   "cell_type": "code",
   "execution_count": 156,
   "metadata": {},
   "outputs": [
    {
     "data": {
      "text/plain": [
       "['@type', '@id', 'name', 'image', 'sameAs']"
      ]
     },
     "execution_count": 156,
     "metadata": {},
     "output_type": "execute_result"
    }
   ],
   "source": [
    "list(terminal_page_json[\"yoast_head_json\"][\"schema\"][\"@graph\"][3].keys())"
   ]
  },
  {
   "cell_type": "code",
   "execution_count": 157,
   "metadata": {},
   "outputs": [
    {
     "data": {
      "text/plain": [
       "'Person'"
      ]
     },
     "execution_count": 157,
     "metadata": {},
     "output_type": "execute_result"
    }
   ],
   "source": [
    "terminal_page_json[\"yoast_head_json\"][\"schema\"][\"@graph\"][3][\"@type\"]"
   ]
  },
  {
   "cell_type": "code",
   "execution_count": 158,
   "metadata": {},
   "outputs": [
    {
     "data": {
      "text/plain": [
       "'https://maximofn.com/#/schema/person/0ea0528f95bec67b9271c68d5a300aed'"
      ]
     },
     "execution_count": 158,
     "metadata": {},
     "output_type": "execute_result"
    }
   ],
   "source": [
    "terminal_page_json[\"yoast_head_json\"][\"schema\"][\"@graph\"][3][\"@id\"]"
   ]
  },
  {
   "cell_type": "code",
   "execution_count": 159,
   "metadata": {},
   "outputs": [
    {
     "data": {
      "text/plain": [
       "'admin'"
      ]
     },
     "execution_count": 159,
     "metadata": {},
     "output_type": "execute_result"
    }
   ],
   "source": [
    "terminal_page_json[\"yoast_head_json\"][\"schema\"][\"@graph\"][3][\"name\"]"
   ]
  },
  {
   "cell_type": "code",
   "execution_count": 161,
   "metadata": {},
   "outputs": [
    {
     "data": {
      "text/plain": [
       "['@type', 'inLanguage', '@id', 'url', 'contentUrl', 'caption']"
      ]
     },
     "execution_count": 161,
     "metadata": {},
     "output_type": "execute_result"
    }
   ],
   "source": [
    "list(terminal_page_json[\"yoast_head_json\"][\"schema\"][\"@graph\"][3][\"image\"].keys())"
   ]
  },
  {
   "cell_type": "code",
   "execution_count": 162,
   "metadata": {},
   "outputs": [
    {
     "data": {
      "text/plain": [
       "'ImageObject'"
      ]
     },
     "execution_count": 162,
     "metadata": {},
     "output_type": "execute_result"
    }
   ],
   "source": [
    "terminal_page_json[\"yoast_head_json\"][\"schema\"][\"@graph\"][3][\"image\"][\"@type\"]"
   ]
  },
  {
   "cell_type": "code",
   "execution_count": 163,
   "metadata": {},
   "outputs": [
    {
     "data": {
      "text/plain": [
       "'es'"
      ]
     },
     "execution_count": 163,
     "metadata": {},
     "output_type": "execute_result"
    }
   ],
   "source": [
    "terminal_page_json[\"yoast_head_json\"][\"schema\"][\"@graph\"][3][\"image\"][\"inLanguage\"]"
   ]
  },
  {
   "cell_type": "code",
   "execution_count": 164,
   "metadata": {},
   "outputs": [
    {
     "data": {
      "text/plain": [
       "'https://maximofn.com/#/schema/person/image/'"
      ]
     },
     "execution_count": 164,
     "metadata": {},
     "output_type": "execute_result"
    }
   ],
   "source": [
    "terminal_page_json[\"yoast_head_json\"][\"schema\"][\"@graph\"][3][\"image\"][\"@id\"]"
   ]
  },
  {
   "cell_type": "code",
   "execution_count": 165,
   "metadata": {},
   "outputs": [
    {
     "data": {
      "text/plain": [
       "'https://secure.gravatar.com/avatar/d42cd1341d871ab6d87a2ac338ae6f60?s=96&d=mm&r=g'"
      ]
     },
     "execution_count": 165,
     "metadata": {},
     "output_type": "execute_result"
    }
   ],
   "source": [
    "terminal_page_json[\"yoast_head_json\"][\"schema\"][\"@graph\"][3][\"image\"][\"url\"]"
   ]
  },
  {
   "cell_type": "code",
   "execution_count": 166,
   "metadata": {},
   "outputs": [
    {
     "data": {
      "text/plain": [
       "'https://secure.gravatar.com/avatar/d42cd1341d871ab6d87a2ac338ae6f60?s=96&d=mm&r=g'"
      ]
     },
     "execution_count": 166,
     "metadata": {},
     "output_type": "execute_result"
    }
   ],
   "source": [
    "terminal_page_json[\"yoast_head_json\"][\"schema\"][\"@graph\"][3][\"image\"][\"contentUrl\"]"
   ]
  },
  {
   "cell_type": "code",
   "execution_count": 167,
   "metadata": {},
   "outputs": [
    {
     "data": {
      "text/plain": [
       "'admin'"
      ]
     },
     "execution_count": 167,
     "metadata": {},
     "output_type": "execute_result"
    }
   ],
   "source": [
    "terminal_page_json[\"yoast_head_json\"][\"schema\"][\"@graph\"][3][\"image\"][\"caption\"]"
   ]
  },
  {
   "cell_type": "code",
   "execution_count": 169,
   "metadata": {},
   "outputs": [
    {
     "data": {
      "text/plain": [
       "(list, 1)"
      ]
     },
     "execution_count": 169,
     "metadata": {},
     "output_type": "execute_result"
    }
   ],
   "source": [
    "type(terminal_page_json[\"yoast_head_json\"][\"schema\"][\"@graph\"][3][\"sameAs\"]), len(terminal_page_json[\"yoast_head_json\"][\"schema\"][\"@graph\"][3][\"sameAs\"])"
   ]
  },
  {
   "cell_type": "code",
   "execution_count": 170,
   "metadata": {},
   "outputs": [
    {
     "data": {
      "text/plain": [
       "'https://maximofn.com'"
      ]
     },
     "execution_count": 170,
     "metadata": {},
     "output_type": "execute_result"
    }
   ],
   "source": [
    "terminal_page_json[\"yoast_head_json\"][\"schema\"][\"@graph\"][3][\"sameAs\"][0]"
   ]
  },
  {
   "cell_type": "code",
   "execution_count": 172,
   "metadata": {},
   "outputs": [
    {
     "data": {
      "text/plain": [
       "['self',\n",
       " 'collection',\n",
       " 'about',\n",
       " 'author',\n",
       " 'replies',\n",
       " 'version-history',\n",
       " 'predecessor-version',\n",
       " 'wp:featuredmedia',\n",
       " 'wp:attachment',\n",
       " 'wp:term',\n",
       " 'curies']"
      ]
     },
     "execution_count": 172,
     "metadata": {},
     "output_type": "execute_result"
    }
   ],
   "source": [
    "list(terminal_page_json[\"_links\"].keys())"
   ]
  },
  {
   "cell_type": "code",
   "execution_count": 174,
   "metadata": {},
   "outputs": [
    {
     "data": {
      "text/plain": [
       "(list, 1)"
      ]
     },
     "execution_count": 174,
     "metadata": {},
     "output_type": "execute_result"
    }
   ],
   "source": [
    "type(terminal_page_json[\"_links\"][\"self\"]), len(terminal_page_json[\"_links\"][\"self\"])"
   ]
  },
  {
   "cell_type": "code",
   "execution_count": 176,
   "metadata": {},
   "outputs": [
    {
     "data": {
      "text/plain": [
       "['href']"
      ]
     },
     "execution_count": 176,
     "metadata": {},
     "output_type": "execute_result"
    }
   ],
   "source": [
    "list(terminal_page_json[\"_links\"][\"self\"][0].keys())"
   ]
  },
  {
   "cell_type": "code",
   "execution_count": 177,
   "metadata": {},
   "outputs": [
    {
     "data": {
      "text/plain": [
       "'https://maximofn.com/wp-json/wp/v2/posts/732'"
      ]
     },
     "execution_count": 177,
     "metadata": {},
     "output_type": "execute_result"
    }
   ],
   "source": [
    "terminal_page_json[\"_links\"][\"self\"][0][\"href\"]"
   ]
  },
  {
   "cell_type": "code",
   "execution_count": 179,
   "metadata": {},
   "outputs": [
    {
     "data": {
      "text/plain": [
       "(list, 1)"
      ]
     },
     "execution_count": 179,
     "metadata": {},
     "output_type": "execute_result"
    }
   ],
   "source": [
    "type(terminal_page_json[\"_links\"][\"collection\"]), len(terminal_page_json[\"_links\"][\"collection\"])"
   ]
  },
  {
   "cell_type": "code",
   "execution_count": 180,
   "metadata": {},
   "outputs": [
    {
     "data": {
      "text/plain": [
       "['href']"
      ]
     },
     "execution_count": 180,
     "metadata": {},
     "output_type": "execute_result"
    }
   ],
   "source": [
    "list(terminal_page_json[\"_links\"][\"collection\"][0].keys())"
   ]
  },
  {
   "cell_type": "code",
   "execution_count": 181,
   "metadata": {},
   "outputs": [
    {
     "data": {
      "text/plain": [
       "'https://maximofn.com/wp-json/wp/v2/posts'"
      ]
     },
     "execution_count": 181,
     "metadata": {},
     "output_type": "execute_result"
    }
   ],
   "source": [
    "terminal_page_json[\"_links\"][\"collection\"][0][\"href\"]"
   ]
  },
  {
   "cell_type": "code",
   "execution_count": 183,
   "metadata": {},
   "outputs": [
    {
     "data": {
      "text/plain": [
       "(list, 1)"
      ]
     },
     "execution_count": 183,
     "metadata": {},
     "output_type": "execute_result"
    }
   ],
   "source": [
    "type(terminal_page_json[\"_links\"][\"about\"]), len(terminal_page_json[\"_links\"][\"about\"])"
   ]
  },
  {
   "cell_type": "code",
   "execution_count": 184,
   "metadata": {},
   "outputs": [
    {
     "data": {
      "text/plain": [
       "['href']"
      ]
     },
     "execution_count": 184,
     "metadata": {},
     "output_type": "execute_result"
    }
   ],
   "source": [
    "list(terminal_page_json[\"_links\"][\"about\"][0].keys())"
   ]
  },
  {
   "cell_type": "code",
   "execution_count": 185,
   "metadata": {},
   "outputs": [
    {
     "data": {
      "text/plain": [
       "'https://maximofn.com/wp-json/wp/v2/types/post'"
      ]
     },
     "execution_count": 185,
     "metadata": {},
     "output_type": "execute_result"
    }
   ],
   "source": [
    "terminal_page_json[\"_links\"][\"about\"][0][\"href\"]"
   ]
  },
  {
   "cell_type": "code",
   "execution_count": 187,
   "metadata": {},
   "outputs": [
    {
     "data": {
      "text/plain": [
       "(list, 1)"
      ]
     },
     "execution_count": 187,
     "metadata": {},
     "output_type": "execute_result"
    }
   ],
   "source": [
    "type(terminal_page_json[\"_links\"][\"author\"]), len(terminal_page_json[\"_links\"][\"author\"])"
   ]
  },
  {
   "cell_type": "code",
   "execution_count": 188,
   "metadata": {},
   "outputs": [
    {
     "data": {
      "text/plain": [
       "['embeddable', 'href']"
      ]
     },
     "execution_count": 188,
     "metadata": {},
     "output_type": "execute_result"
    }
   ],
   "source": [
    "list(terminal_page_json[\"_links\"][\"author\"][0].keys())"
   ]
  },
  {
   "cell_type": "code",
   "execution_count": 189,
   "metadata": {},
   "outputs": [
    {
     "data": {
      "text/plain": [
       "True"
      ]
     },
     "execution_count": 189,
     "metadata": {},
     "output_type": "execute_result"
    }
   ],
   "source": [
    "terminal_page_json[\"_links\"][\"author\"][0][\"embeddable\"]"
   ]
  },
  {
   "cell_type": "code",
   "execution_count": 190,
   "metadata": {},
   "outputs": [
    {
     "data": {
      "text/plain": [
       "'https://maximofn.com/wp-json/wp/v2/users/1'"
      ]
     },
     "execution_count": 190,
     "metadata": {},
     "output_type": "execute_result"
    }
   ],
   "source": [
    "terminal_page_json[\"_links\"][\"author\"][0][\"href\"]"
   ]
  },
  {
   "cell_type": "code",
   "execution_count": 192,
   "metadata": {},
   "outputs": [
    {
     "data": {
      "text/plain": [
       "(list, 1)"
      ]
     },
     "execution_count": 192,
     "metadata": {},
     "output_type": "execute_result"
    }
   ],
   "source": [
    "type(terminal_page_json[\"_links\"][\"replies\"]), len(terminal_page_json[\"_links\"][\"replies\"])"
   ]
  },
  {
   "cell_type": "code",
   "execution_count": 193,
   "metadata": {},
   "outputs": [
    {
     "data": {
      "text/plain": [
       "['embeddable', 'href']"
      ]
     },
     "execution_count": 193,
     "metadata": {},
     "output_type": "execute_result"
    }
   ],
   "source": [
    "list(terminal_page_json[\"_links\"][\"replies\"][0].keys())"
   ]
  },
  {
   "cell_type": "code",
   "execution_count": 194,
   "metadata": {},
   "outputs": [
    {
     "data": {
      "text/plain": [
       "True"
      ]
     },
     "execution_count": 194,
     "metadata": {},
     "output_type": "execute_result"
    }
   ],
   "source": [
    "terminal_page_json[\"_links\"][\"replies\"][0][\"embeddable\"]"
   ]
  },
  {
   "cell_type": "code",
   "execution_count": 195,
   "metadata": {},
   "outputs": [
    {
     "data": {
      "text/plain": [
       "'https://maximofn.com/wp-json/wp/v2/comments?post=732'"
      ]
     },
     "execution_count": 195,
     "metadata": {},
     "output_type": "execute_result"
    }
   ],
   "source": [
    "terminal_page_json[\"_links\"][\"replies\"][0][\"href\"]"
   ]
  },
  {
   "cell_type": "code",
   "execution_count": 197,
   "metadata": {},
   "outputs": [
    {
     "data": {
      "text/plain": [
       "(list, 1)"
      ]
     },
     "execution_count": 197,
     "metadata": {},
     "output_type": "execute_result"
    }
   ],
   "source": [
    "type(terminal_page_json[\"_links\"][\"version-history\"]), len(terminal_page_json[\"_links\"][\"version-history\"])"
   ]
  },
  {
   "cell_type": "code",
   "execution_count": 198,
   "metadata": {},
   "outputs": [
    {
     "data": {
      "text/plain": [
       "['count', 'href']"
      ]
     },
     "execution_count": 198,
     "metadata": {},
     "output_type": "execute_result"
    }
   ],
   "source": [
    "list(terminal_page_json[\"_links\"][\"version-history\"][0].keys())"
   ]
  },
  {
   "cell_type": "code",
   "execution_count": 199,
   "metadata": {},
   "outputs": [
    {
     "data": {
      "text/plain": [
       "1"
      ]
     },
     "execution_count": 199,
     "metadata": {},
     "output_type": "execute_result"
    }
   ],
   "source": [
    "terminal_page_json[\"_links\"][\"version-history\"][0][\"count\"]"
   ]
  },
  {
   "cell_type": "code",
   "execution_count": 200,
   "metadata": {},
   "outputs": [
    {
     "data": {
      "text/plain": [
       "'https://maximofn.com/wp-json/wp/v2/posts/732/revisions'"
      ]
     },
     "execution_count": 200,
     "metadata": {},
     "output_type": "execute_result"
    }
   ],
   "source": [
    "terminal_page_json[\"_links\"][\"version-history\"][0][\"href\"]"
   ]
  },
  {
   "cell_type": "code",
   "execution_count": 202,
   "metadata": {},
   "outputs": [
    {
     "data": {
      "text/plain": [
       "(list, 1)"
      ]
     },
     "execution_count": 202,
     "metadata": {},
     "output_type": "execute_result"
    }
   ],
   "source": [
    "type(terminal_page_json[\"_links\"][\"predecessor-version\"]), len(terminal_page_json[\"_links\"][\"predecessor-version\"])"
   ]
  },
  {
   "cell_type": "code",
   "execution_count": 203,
   "metadata": {},
   "outputs": [
    {
     "data": {
      "text/plain": [
       "['id', 'href']"
      ]
     },
     "execution_count": 203,
     "metadata": {},
     "output_type": "execute_result"
    }
   ],
   "source": [
    "list(terminal_page_json[\"_links\"][\"predecessor-version\"][0].keys())"
   ]
  },
  {
   "cell_type": "code",
   "execution_count": 204,
   "metadata": {},
   "outputs": [
    {
     "data": {
      "text/plain": [
       "733"
      ]
     },
     "execution_count": 204,
     "metadata": {},
     "output_type": "execute_result"
    }
   ],
   "source": [
    "terminal_page_json[\"_links\"][\"predecessor-version\"][0][\"id\"]"
   ]
  },
  {
   "cell_type": "code",
   "execution_count": 205,
   "metadata": {},
   "outputs": [
    {
     "data": {
      "text/plain": [
       "'https://maximofn.com/wp-json/wp/v2/posts/732/revisions/733'"
      ]
     },
     "execution_count": 205,
     "metadata": {},
     "output_type": "execute_result"
    }
   ],
   "source": [
    "terminal_page_json[\"_links\"][\"predecessor-version\"][0][\"href\"]"
   ]
  },
  {
   "cell_type": "code",
   "execution_count": 207,
   "metadata": {},
   "outputs": [
    {
     "data": {
      "text/plain": [
       "(list, 1)"
      ]
     },
     "execution_count": 207,
     "metadata": {},
     "output_type": "execute_result"
    }
   ],
   "source": [
    "type(terminal_page_json[\"_links\"][\"wp:featuredmedia\"]), len(terminal_page_json[\"_links\"][\"wp:featuredmedia\"])"
   ]
  },
  {
   "cell_type": "code",
   "execution_count": 208,
   "metadata": {},
   "outputs": [
    {
     "data": {
      "text/plain": [
       "['embeddable', 'href']"
      ]
     },
     "execution_count": 208,
     "metadata": {},
     "output_type": "execute_result"
    }
   ],
   "source": [
    "list(terminal_page_json[\"_links\"][\"wp:featuredmedia\"][0].keys())"
   ]
  },
  {
   "cell_type": "code",
   "execution_count": 209,
   "metadata": {},
   "outputs": [
    {
     "data": {
      "text/plain": [
       "True"
      ]
     },
     "execution_count": 209,
     "metadata": {},
     "output_type": "execute_result"
    }
   ],
   "source": [
    "terminal_page_json[\"_links\"][\"wp:featuredmedia\"][0][\"embeddable\"]"
   ]
  },
  {
   "cell_type": "code",
   "execution_count": 210,
   "metadata": {},
   "outputs": [
    {
     "data": {
      "text/plain": [
       "'https://maximofn.com/wp-json/wp/v2/media/608'"
      ]
     },
     "execution_count": 210,
     "metadata": {},
     "output_type": "execute_result"
    }
   ],
   "source": [
    "terminal_page_json[\"_links\"][\"wp:featuredmedia\"][0][\"href\"]"
   ]
  },
  {
   "cell_type": "code",
   "execution_count": 211,
   "metadata": {},
   "outputs": [
    {
     "data": {
      "text/plain": [
       "(list, 1)"
      ]
     },
     "execution_count": 211,
     "metadata": {},
     "output_type": "execute_result"
    }
   ],
   "source": [
    "type(terminal_page_json[\"_links\"][\"wp:attachment\"]), len(terminal_page_json[\"_links\"][\"wp:attachment\"])"
   ]
  },
  {
   "cell_type": "code",
   "execution_count": 212,
   "metadata": {},
   "outputs": [
    {
     "data": {
      "text/plain": [
       "['href']"
      ]
     },
     "execution_count": 212,
     "metadata": {},
     "output_type": "execute_result"
    }
   ],
   "source": [
    "list(terminal_page_json[\"_links\"][\"wp:attachment\"][0].keys())"
   ]
  },
  {
   "cell_type": "code",
   "execution_count": 213,
   "metadata": {},
   "outputs": [
    {
     "data": {
      "text/plain": [
       "'https://maximofn.com/wp-json/wp/v2/media?parent=732'"
      ]
     },
     "execution_count": 213,
     "metadata": {},
     "output_type": "execute_result"
    }
   ],
   "source": [
    "terminal_page_json[\"_links\"][\"wp:attachment\"][0][\"href\"]"
   ]
  },
  {
   "cell_type": "code",
   "execution_count": 214,
   "metadata": {},
   "outputs": [
    {
     "data": {
      "text/plain": [
       "(list, 2)"
      ]
     },
     "execution_count": 214,
     "metadata": {},
     "output_type": "execute_result"
    }
   ],
   "source": [
    "type(terminal_page_json[\"_links\"][\"wp:term\"]), len(terminal_page_json[\"_links\"][\"wp:term\"])"
   ]
  },
  {
   "cell_type": "code",
   "execution_count": 215,
   "metadata": {},
   "outputs": [
    {
     "data": {
      "text/plain": [
       "['taxonomy', 'embeddable', 'href']"
      ]
     },
     "execution_count": 215,
     "metadata": {},
     "output_type": "execute_result"
    }
   ],
   "source": [
    "list(terminal_page_json[\"_links\"][\"wp:term\"][0].keys())"
   ]
  },
  {
   "cell_type": "code",
   "execution_count": 216,
   "metadata": {},
   "outputs": [
    {
     "data": {
      "text/plain": [
       "'category'"
      ]
     },
     "execution_count": 216,
     "metadata": {},
     "output_type": "execute_result"
    }
   ],
   "source": [
    "terminal_page_json[\"_links\"][\"wp:term\"][0][\"taxonomy\"]"
   ]
  },
  {
   "cell_type": "code",
   "execution_count": 217,
   "metadata": {},
   "outputs": [
    {
     "data": {
      "text/plain": [
       "True"
      ]
     },
     "execution_count": 217,
     "metadata": {},
     "output_type": "execute_result"
    }
   ],
   "source": [
    "terminal_page_json[\"_links\"][\"wp:term\"][0][\"embeddable\"]"
   ]
  },
  {
   "cell_type": "code",
   "execution_count": 218,
   "metadata": {},
   "outputs": [
    {
     "data": {
      "text/plain": [
       "'https://maximofn.com/wp-json/wp/v2/categories?post=732'"
      ]
     },
     "execution_count": 218,
     "metadata": {},
     "output_type": "execute_result"
    }
   ],
   "source": [
    "terminal_page_json[\"_links\"][\"wp:term\"][0][\"href\"]"
   ]
  },
  {
   "cell_type": "code",
   "execution_count": 219,
   "metadata": {},
   "outputs": [
    {
     "data": {
      "text/plain": [
       "['taxonomy', 'embeddable', 'href']"
      ]
     },
     "execution_count": 219,
     "metadata": {},
     "output_type": "execute_result"
    }
   ],
   "source": [
    "list(terminal_page_json[\"_links\"][\"wp:term\"][1].keys())"
   ]
  },
  {
   "cell_type": "code",
   "execution_count": 220,
   "metadata": {},
   "outputs": [
    {
     "data": {
      "text/plain": [
       "'post_tag'"
      ]
     },
     "execution_count": 220,
     "metadata": {},
     "output_type": "execute_result"
    }
   ],
   "source": [
    "terminal_page_json[\"_links\"][\"wp:term\"][1][\"taxonomy\"]"
   ]
  },
  {
   "cell_type": "code",
   "execution_count": 221,
   "metadata": {},
   "outputs": [
    {
     "data": {
      "text/plain": [
       "True"
      ]
     },
     "execution_count": 221,
     "metadata": {},
     "output_type": "execute_result"
    }
   ],
   "source": [
    "terminal_page_json[\"_links\"][\"wp:term\"][1][\"embeddable\"]"
   ]
  },
  {
   "cell_type": "code",
   "execution_count": 222,
   "metadata": {},
   "outputs": [
    {
     "data": {
      "text/plain": [
       "'https://maximofn.com/wp-json/wp/v2/tags?post=732'"
      ]
     },
     "execution_count": 222,
     "metadata": {},
     "output_type": "execute_result"
    }
   ],
   "source": [
    "terminal_page_json[\"_links\"][\"wp:term\"][1][\"href\"]"
   ]
  },
  {
   "cell_type": "code",
   "execution_count": 223,
   "metadata": {},
   "outputs": [
    {
     "data": {
      "text/plain": [
       "(list, 1)"
      ]
     },
     "execution_count": 223,
     "metadata": {},
     "output_type": "execute_result"
    }
   ],
   "source": [
    "type(terminal_page_json[\"_links\"][\"curies\"]), len(terminal_page_json[\"_links\"][\"curies\"])"
   ]
  },
  {
   "cell_type": "code",
   "execution_count": 224,
   "metadata": {},
   "outputs": [
    {
     "data": {
      "text/plain": [
       "['name', 'href', 'templated']"
      ]
     },
     "execution_count": 224,
     "metadata": {},
     "output_type": "execute_result"
    }
   ],
   "source": [
    "list(terminal_page_json[\"_links\"][\"curies\"][0].keys())"
   ]
  },
  {
   "cell_type": "code",
   "execution_count": 225,
   "metadata": {},
   "outputs": [
    {
     "data": {
      "text/plain": [
       "'wp'"
      ]
     },
     "execution_count": 225,
     "metadata": {},
     "output_type": "execute_result"
    }
   ],
   "source": [
    "terminal_page_json[\"_links\"][\"curies\"][0][\"name\"]"
   ]
  },
  {
   "cell_type": "code",
   "execution_count": 226,
   "metadata": {},
   "outputs": [
    {
     "data": {
      "text/plain": [
       "'https://api.w.org/{rel}'"
      ]
     },
     "execution_count": 226,
     "metadata": {},
     "output_type": "execute_result"
    }
   ],
   "source": [
    "terminal_page_json[\"_links\"][\"curies\"][0][\"href\"]"
   ]
  },
  {
   "cell_type": "code",
   "execution_count": 227,
   "metadata": {},
   "outputs": [
    {
     "data": {
      "text/plain": [
       "True"
      ]
     },
     "execution_count": 227,
     "metadata": {},
     "output_type": "execute_result"
    }
   ],
   "source": [
    "terminal_page_json[\"_links\"][\"curies\"][0][\"templated\"]"
   ]
  },
  {
   "cell_type": "code",
   "execution_count": null,
   "metadata": {},
   "outputs": [],
   "source": []
  }
 ],
 "metadata": {
  "kernelspec": {
   "display_name": "Python 3.7.6 ('base')",
   "language": "python",
   "name": "python3"
  },
  "language_info": {
   "codemirror_mode": {
    "name": "ipython",
    "version": 3
   },
   "file_extension": ".py",
   "mimetype": "text/x-python",
   "name": "python",
   "nbconvert_exporter": "python",
   "pygments_lexer": "ipython3",
   "version": "3.7.6"
  },
  "orig_nbformat": 4,
  "vscode": {
   "interpreter": {
    "hash": "d5745ab6aba164e1152437c779991855725055592b9f2bdb41a4825db7168d26"
   }
  }
 },
 "nbformat": 4,
 "nbformat_minor": 2
}
