{
 "cells": [
  {
   "cell_type": "code",
   "execution_count": 12,
   "metadata": {},
   "outputs": [],
   "source": [
    "from credentials import url\n",
    "from domain import domain\n",
    "import json\n",
    "from wordpress_json import wordpress_json\n",
    "from utils import timedate, compare_dicts\n",
    "download = True"
   ]
  },
  {
   "attachments": {},
   "cell_type": "markdown",
   "metadata": {},
   "source": [
    "# Get all posts"
   ]
  },
  {
   "cell_type": "code",
   "execution_count": 13,
   "metadata": {},
   "outputs": [
    {
     "data": {
      "text/plain": [
       "(list,\n",
       " 16,\n",
       " [{'id': 580, 'title': 'Docker'},\n",
       "  {'id': 582, 'title': 'Expresiones regulares'},\n",
       "  {'id': 603, 'title': 'Terminal'},\n",
       "  {'id': 605, 'title': 'Terminal'},\n",
       "  {'id': 683, 'title': 'Introducción a Python'},\n",
       "  {'id': 686, 'title': 'Introduction to Python'},\n",
       "  {'id': 688, 'title': 'Introdução à Python'},\n",
       "  {'id': 706, 'title': 'Calculo matricial con Numpy'},\n",
       "  {'id': 708, 'title': 'Matrix calculation with Numpy'},\n",
       "  {'id': 710, 'title': 'Cálculo Matrix com Numpy'},\n",
       "  {'id': 726, 'title': 'Manejo de datos con Pandas'},\n",
       "  {'id': 728, 'title': 'Data management with Pandas'},\n",
       "  {'id': 730, 'title': 'Gerenciamento de dados com Pandas'},\n",
       "  {'id': 732, 'title': 'Terminal'},\n",
       "  {'id': 734, 'title': 'Terminal'},\n",
       "  {'id': 736, 'title': 'Terminal'}])"
      ]
     },
     "execution_count": 13,
     "metadata": {},
     "output_type": "execute_result"
    }
   ],
   "source": [
    "if download: domain = domain(url)\n",
    "wordpress = domain.get_posts()\n",
    "type(wordpress), len(wordpress), wordpress"
   ]
  },
  {
   "attachments": {},
   "cell_type": "markdown",
   "metadata": {},
   "source": [
    "# Select one post"
   ]
  },
  {
   "cell_type": "code",
   "execution_count": 14,
   "metadata": {},
   "outputs": [],
   "source": [
    "terminal_page_id = 683\n",
    "if download: terminal_page_json = domain.get_json_post(terminal_page_id)"
   ]
  },
  {
   "cell_type": "code",
   "execution_count": 15,
   "metadata": {},
   "outputs": [],
   "source": [
    "# Open and read the file\n",
    "with open('../portafolio/posts/html_files/2021-02-11-Introduccion-a-Python.html', 'r') as file:\n",
    "    content = file.read()"
   ]
  },
  {
   "cell_type": "code",
   "execution_count": 16,
   "metadata": {},
   "outputs": [
    {
     "data": {
      "text/plain": [
       "51"
      ]
     },
     "execution_count": 16,
     "metadata": {},
     "output_type": "execute_result"
    }
   ],
   "source": [
    "int(terminal_page_json['yoast_head_json']['twitter_misc']['Tiempo de lectura'].split(' ')[0])"
   ]
  },
  {
   "cell_type": "code",
   "execution_count": 17,
   "metadata": {},
   "outputs": [],
   "source": [
    "# page_date, page_date_modified, page_date_modified_gmt = timedate()\n",
    "page_date = terminal_page_json['date']\n",
    "page_date_modified = terminal_page_json['modified']\n",
    "page_date_gmt = terminal_page_json['date_gmt']\n",
    "page_date_modified_gmt = terminal_page_json['modified_gmt']\n",
    "title = terminal_page_json['title']['rendered']\n",
    "slug = terminal_page_json['slug']\n",
    "excerpt = terminal_page_json['excerpt']['rendered'][3:-5]\n",
    "image_id = terminal_page_json['featured_media']\n",
    "post_categories = terminal_page_json['categories']\n",
    "post_tags = terminal_page_json['tags']\n",
    "image_url = terminal_page_json['yoast_head_json']['og_image'][0]['url']\n",
    "image_width = terminal_page_json['yoast_head_json']['og_image'][0]['width']\n",
    "image_height = terminal_page_json['yoast_head_json']['og_image'][0]['height']\n",
    "image_type = terminal_page_json['yoast_head_json']['og_image'][0]['type']\n",
    "post_time_to_read = int(terminal_page_json['yoast_head_json']['twitter_misc']['Tiempo de lectura'].split(' ')[0])"
   ]
  },
  {
   "cell_type": "code",
   "execution_count": 18,
   "metadata": {},
   "outputs": [],
   "source": [
    "wordpress_json = wordpress_json(post_id = terminal_page_id,\n",
    "                                post_title = title,\n",
    "                                post_slug = slug,\n",
    "                                post_content = content,\n",
    "                                post_excerpt = excerpt,\n",
    "                                post_categories=post_categories,\n",
    "                                post_tags=post_tags,\n",
    "                                domain_url='https://maximofn.com',\n",
    "                                image_url=image_url,\n",
    "                                image_width=image_width, image_height=image_height, image_type=image_type,\n",
    "                                date=page_date, date_modified=page_date_modified, date_gmt=page_date_gmt,\n",
    "                                image_id=image_id,\n",
    "                                post_time_to_read=post_time_to_read\n",
    "                                )"
   ]
  },
  {
   "cell_type": "code",
   "execution_count": 19,
   "metadata": {},
   "outputs": [],
   "source": [
    "wordpress_json_json = wordpress_json.json()"
   ]
  },
  {
   "cell_type": "code",
   "execution_count": 20,
   "metadata": {},
   "outputs": [
    {
     "name": "stdout",
     "output_type": "stream",
     "text": [
      "600 3601 600\n"
     ]
    }
   ],
   "source": [
    "wordpress_json_json['content']['rendered'] = ''\n",
    "# wordpress_json_json['date'] = ''\n",
    "# wordpress_json_json['date_gmt'] = ''\n",
    "# wordpress_json_json['modified'] = ''\n",
    "# wordpress_json_json['modified_gmt'] = ''\n",
    "m = 600\n",
    "M = len(wordpress_json_json['yoast_head'])\n",
    "N = min(m, M)\n",
    "print(m, M, N)\n",
    "wordpress_json_json['yoast_head'] = wordpress_json_json['yoast_head'][0:N]\n",
    "\n",
    "if download:\n",
    "    terminal_page_json['content']['rendered'] = ''\n",
    "    # terminal_page_json['date'] = ''\n",
    "    # terminal_page_json['date_gmt'] = ''\n",
    "    # terminal_page_json['modified'] = ''\n",
    "    # terminal_page_json['modified_gmt'] = ''\n",
    "    terminal_page_json['yoast_head'] = terminal_page_json['yoast_head'][0:N]"
   ]
  },
  {
   "cell_type": "code",
   "execution_count": 21,
   "metadata": {},
   "outputs": [],
   "source": [
    "# save the json file\n",
    "with open('create.json', 'w') as file:\n",
    "    json.dump(wordpress_json_json, file, indent=2)\n",
    "\n",
    "if download:\n",
    "    with open('download.json', 'w') as file:\n",
    "        json.dump(terminal_page_json, file, indent=2)"
   ]
  },
  {
   "cell_type": "code",
   "execution_count": 22,
   "metadata": {},
   "outputs": [],
   "source": [
    "# compare_dicts(wordpress_json_json, terminal_page_json)"
   ]
  },
  {
   "cell_type": "code",
   "execution_count": null,
   "metadata": {},
   "outputs": [],
   "source": []
  }
 ],
 "metadata": {
  "kernelspec": {
   "display_name": "base",
   "language": "python",
   "name": "python3"
  },
  "language_info": {
   "codemirror_mode": {
    "name": "ipython",
    "version": 3
   },
   "file_extension": ".py",
   "mimetype": "text/x-python",
   "name": "python",
   "nbconvert_exporter": "python",
   "pygments_lexer": "ipython3",
   "version": "3.7.6"
  },
  "orig_nbformat": 4,
  "vscode": {
   "interpreter": {
    "hash": "d5745ab6aba164e1152437c779991855725055592b9f2bdb41a4825db7168d26"
   }
  }
 },
 "nbformat": 4,
 "nbformat_minor": 2
}
