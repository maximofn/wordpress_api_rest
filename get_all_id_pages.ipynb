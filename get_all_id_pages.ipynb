{
 "cells": [
  {
   "cell_type": "code",
   "execution_count": 1,
   "metadata": {},
   "outputs": [],
   "source": [
    "import requests\n",
    "import json\n",
    "import base64"
   ]
  },
  {
   "cell_type": "code",
   "execution_count": 2,
   "metadata": {},
   "outputs": [],
   "source": [
    "url = \"https://maximofn.com/\"\n",
    "url_pages = url + \"wp-json/wp/v2/pages\""
   ]
  },
  {
   "cell_type": "code",
   "execution_count": 3,
   "metadata": {},
   "outputs": [],
   "source": [
    "responce = requests.get(url_pages)\n",
    "responce_json = responce.json()"
   ]
  },
  {
   "cell_type": "code",
   "execution_count": 4,
   "metadata": {},
   "outputs": [
    {
     "data": {
      "text/plain": [
       "10"
      ]
     },
     "execution_count": 4,
     "metadata": {},
     "output_type": "execute_result"
    }
   ],
   "source": [
    "len(responce_json)"
   ]
  },
  {
   "cell_type": "code",
   "execution_count": 5,
   "metadata": {},
   "outputs": [],
   "source": [
    "pages = []\n",
    "for i in range(len(responce_json)):\n",
    "    dictionary = {\n",
    "        \"id\": responce_json[i][\"id\"],\n",
    "        \"title\": responce_json[i][\"title\"][\"rendered\"],\n",
    "    }\n",
    "    pages.append(dictionary)\n",
    "pages.sort(key=lambda x: x[\"id\"])"
   ]
  },
  {
   "cell_type": "code",
   "execution_count": 6,
   "metadata": {},
   "outputs": [
    {
     "data": {
      "text/plain": [
       "[{'id': 521, 'title': 'Aviso legal'},\n",
       " {'id': 525, 'title': 'Aviso legal'},\n",
       " {'id': 527, 'title': 'Contato'},\n",
       " {'id': 530, 'title': 'Contact'},\n",
       " {'id': 541, 'title': 'Blog'},\n",
       " {'id': 543, 'title': 'Blog'},\n",
       " {'id': 562, 'title': 'Política de cookies'},\n",
       " {'id': 564, 'title': 'Política de cookies'},\n",
       " {'id': 566, 'title': 'Política de privacidad'},\n",
       " {'id': 568, 'title': 'Política de privacidad'}]"
      ]
     },
     "execution_count": 6,
     "metadata": {},
     "output_type": "execute_result"
    }
   ],
   "source": [
    "pages"
   ]
  },
  {
   "cell_type": "code",
   "execution_count": 7,
   "metadata": {},
   "outputs": [
    {
     "data": {
      "text/plain": [
       "568"
      ]
     },
     "execution_count": 7,
     "metadata": {},
     "output_type": "execute_result"
    }
   ],
   "source": [
    "from utils import get_last_id_page\n",
    "get_last_id_page()"
   ]
  }
 ],
 "metadata": {
  "kernelspec": {
   "display_name": "Python 3.7.6 ('base')",
   "language": "python",
   "name": "python3"
  },
  "language_info": {
   "codemirror_mode": {
    "name": "ipython",
    "version": 3
   },
   "file_extension": ".py",
   "mimetype": "text/x-python",
   "name": "python",
   "nbconvert_exporter": "python",
   "pygments_lexer": "ipython3",
   "version": "3.7.6"
  },
  "orig_nbformat": 4,
  "vscode": {
   "interpreter": {
    "hash": "d5745ab6aba164e1152437c779991855725055592b9f2bdb41a4825db7168d26"
   }
  }
 },
 "nbformat": 4,
 "nbformat_minor": 2
}
