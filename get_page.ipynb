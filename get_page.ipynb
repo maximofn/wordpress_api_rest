{
 "cells": [
  {
   "cell_type": "code",
   "execution_count": 1,
   "metadata": {},
   "outputs": [],
   "source": [
    "from utils import get_page"
   ]
  },
  {
   "cell_type": "code",
   "execution_count": 2,
   "metadata": {},
   "outputs": [],
   "source": [
    "test_page_id = 355\n",
    "test_page_json = get_page(test_page_id)"
   ]
  },
  {
   "cell_type": "code",
   "execution_count": 5,
   "metadata": {},
   "outputs": [
    {
     "data": {
      "text/plain": [
       "['id',\n",
       " 'date',\n",
       " 'date_gmt',\n",
       " 'guid',\n",
       " 'modified',\n",
       " 'modified_gmt',\n",
       " 'slug',\n",
       " 'status',\n",
       " 'type',\n",
       " 'link',\n",
       " 'title',\n",
       " 'content',\n",
       " 'excerpt',\n",
       " 'author',\n",
       " 'featured_media',\n",
       " 'parent',\n",
       " 'menu_order',\n",
       " 'comment_status',\n",
       " 'ping_status',\n",
       " 'template',\n",
       " 'meta',\n",
       " 'blocksy_meta',\n",
       " 'yoast_head',\n",
       " 'yoast_head_json',\n",
       " '_links']"
      ]
     },
     "execution_count": 5,
     "metadata": {},
     "output_type": "execute_result"
    }
   ],
   "source": [
    "list(test_page_json.keys())"
   ]
  }
 ],
 "metadata": {
  "kernelspec": {
   "display_name": "Python 3.7.6 ('base')",
   "language": "python",
   "name": "python3"
  },
  "language_info": {
   "codemirror_mode": {
    "name": "ipython",
    "version": 3
   },
   "file_extension": ".py",
   "mimetype": "text/x-python",
   "name": "python",
   "nbconvert_exporter": "python",
   "pygments_lexer": "ipython3",
   "version": "3.7.6"
  },
  "orig_nbformat": 4,
  "vscode": {
   "interpreter": {
    "hash": "d5745ab6aba164e1152437c779991855725055592b9f2bdb41a4825db7168d26"
   }
  }
 },
 "nbformat": 4,
 "nbformat_minor": 2
}
