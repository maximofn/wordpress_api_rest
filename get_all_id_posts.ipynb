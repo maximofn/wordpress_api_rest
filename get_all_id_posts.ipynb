{
 "cells": [
  {
   "cell_type": "code",
   "execution_count": 1,
   "metadata": {},
   "outputs": [],
   "source": [
    "import requests\n",
    "import json\n",
    "import base64\n",
    "from credentials import url"
   ]
  },
  {
   "cell_type": "code",
   "execution_count": 2,
   "metadata": {},
   "outputs": [],
   "source": [
    "url_pages = url + \"wp-json/wp/v2/posts\""
   ]
  },
  {
   "cell_type": "code",
   "execution_count": 3,
   "metadata": {},
   "outputs": [],
   "source": [
    "responce = requests.get(url_pages)\n",
    "responce_json = responce.json()"
   ]
  },
  {
   "cell_type": "code",
   "execution_count": 4,
   "metadata": {},
   "outputs": [
    {
     "data": {
      "text/plain": [
       "10"
      ]
     },
     "execution_count": 4,
     "metadata": {},
     "output_type": "execute_result"
    }
   ],
   "source": [
    "len(responce_json)"
   ]
  },
  {
   "cell_type": "code",
   "execution_count": 5,
   "metadata": {},
   "outputs": [],
   "source": [
    "posts = []\n",
    "for i in range(len(responce_json)):\n",
    "    dictionary = {\n",
    "        \"id\": responce_json[i][\"id\"],\n",
    "        \"title\": responce_json[i][\"title\"][\"rendered\"],\n",
    "    }\n",
    "    posts.append(dictionary)\n",
    "posts.sort(key=lambda x: x[\"id\"])"
   ]
  },
  {
   "cell_type": "code",
   "execution_count": 6,
   "metadata": {},
   "outputs": [
    {
     "data": {
      "text/plain": [
       "[{'id': 688, 'title': 'Introdução à Python'},\n",
       " {'id': 706, 'title': 'Calculo matricial con Numpy'},\n",
       " {'id': 708, 'title': 'Matrix calculation with Numpy'},\n",
       " {'id': 710, 'title': 'Cálculo Matrix com Numpy'},\n",
       " {'id': 726, 'title': 'Manejo de datos con Pandas'},\n",
       " {'id': 728, 'title': 'Data management with Pandas'},\n",
       " {'id': 730, 'title': 'Gerenciamento de dados com Pandas'},\n",
       " {'id': 732, 'title': 'Terminal'},\n",
       " {'id': 734, 'title': 'Terminal'},\n",
       " {'id': 736, 'title': 'Terminal'}]"
      ]
     },
     "execution_count": 6,
     "metadata": {},
     "output_type": "execute_result"
    }
   ],
   "source": [
    "posts"
   ]
  },
  {
   "cell_type": "code",
   "execution_count": 7,
   "metadata": {},
   "outputs": [
    {
     "data": {
      "text/plain": [
       "736"
      ]
     },
     "execution_count": 7,
     "metadata": {},
     "output_type": "execute_result"
    }
   ],
   "source": [
    "from utils import get_last_id_post\n",
    "get_last_id_post()"
   ]
  }
 ],
 "metadata": {
  "kernelspec": {
   "display_name": "Python 3.7.6 ('base')",
   "language": "python",
   "name": "python3"
  },
  "language_info": {
   "codemirror_mode": {
    "name": "ipython",
    "version": 3
   },
   "file_extension": ".py",
   "mimetype": "text/x-python",
   "name": "python",
   "nbconvert_exporter": "python",
   "pygments_lexer": "ipython3",
   "version": "3.7.6"
  },
  "orig_nbformat": 4,
  "vscode": {
   "interpreter": {
    "hash": "d5745ab6aba164e1152437c779991855725055592b9f2bdb41a4825db7168d26"
   }
  }
 },
 "nbformat": 4,
 "nbformat_minor": 2
}
